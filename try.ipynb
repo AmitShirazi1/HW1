{
 "cells": [
  {
   "cell_type": "code",
   "execution_count": 10,
   "metadata": {},
   "outputs": [
    {
     "name": "stdout",
     "output_type": "stream",
     "text": [
      "[[2.08008382 1.25992105 2.08008382 3.30192725 4.62606501]\n",
      " [6.         4.62606501 3.30192725 2.08008382 1.25992105]]\n"
     ]
    }
   ],
   "source": [
    "import numpy as np\n",
    "x_train = np.array([[1,1,1], [2,2,2], [3,3,3], [4,4,4], [5,5,5]])\n",
    "X = np.array([[1,2,3], [4,5,6]])\n",
    "p=3\n",
    "def minkowski_distance(x1, x2, axis=None):\n",
    "        return np.power(np.sum(np.power(np.abs(x1 - x2), p), axis=axis), 1/p)\n",
    "\n",
    "distances = minkowski_distance(x_train, X[:, np.newaxis], axis=2)\n",
    "print(distances)"
   ]
  },
  {
   "cell_type": "code",
   "execution_count": 12,
   "metadata": {},
   "outputs": [
    {
     "name": "stdout",
     "output_type": "stream",
     "text": [
      "[[1 0 2 3 4]\n",
      " [4 3 2 1 0]]\n",
      "[[1 0]\n",
      " [4 3]]\n",
      "[[  1   1]\n",
      " [100   3]]\n"
     ]
    }
   ],
   "source": [
    "k = 2\n",
    "y_train = np.array([1, 1, 2, 3, 100])\n",
    "sorted_indices = np.argsort(distances, axis=1) # Sorts the indices of the distances matrix column in each row (test points), in ascending order.\n",
    "print(sorted_indices)\n",
    "k_nearest_indices = sorted_indices[:, :k] # Takes the k nearest neighbors for each test point.\n",
    "print(k_nearest_indices)\n",
    "k_nearest_labels = y_train[k_nearest_indices]\n",
    "print(k_nearest_labels)"
   ]
  },
  {
   "cell_type": "code",
   "execution_count": 13,
   "metadata": {},
   "outputs": [
    {
     "name": "stdout",
     "output_type": "stream",
     "text": [
      "[1 3]\n"
     ]
    }
   ],
   "source": [
    "def tie_breaking(labels):\n",
    "        unique, counts = np.unique(labels, return_counts=True)\n",
    "        return unique[np.argmax(counts)]\n",
    "predictions = np.apply_along_axis(tie_breaking, axis=1, arr=k_nearest_labels)\n",
    "print(predictions)"
   ]
  },
  {
   "cell_type": "code",
   "execution_count": 17,
   "metadata": {},
   "outputs": [
    {
     "data": {
      "text/plain": [
       "1"
      ]
     },
     "execution_count": 17,
     "metadata": {},
     "output_type": "execute_result"
    }
   ],
   "source": [
    "np.sum(np.array([5,10,3,5])==10)"
   ]
  },
  {
   "cell_type": "code",
   "execution_count": null,
   "metadata": {},
   "outputs": [],
   "source": [
    "if len(unique_labels) == 2 and counts[0] == counts[1]:\n",
    "    # Tie-breaking based on distance to the nearest neighbor\n",
    "    distances = euclidean_distances(self.X_train[labels == unique_labels[0]], [self.X_train[0]])\n",
    "    min_distance_index = np.argmin(distances)\n",
    "    return unique_labels[min_distance_index]"
   ]
  }
 ],
 "metadata": {
  "kernelspec": {
   "display_name": "lemidaHi1",
   "language": "python",
   "name": "python3"
  },
  "language_info": {
   "codemirror_mode": {
    "name": "ipython",
    "version": 3
   },
   "file_extension": ".py",
   "mimetype": "text/x-python",
   "name": "python",
   "nbconvert_exporter": "python",
   "pygments_lexer": "ipython3",
   "version": "3.8.18"
  }
 },
 "nbformat": 4,
 "nbformat_minor": 2
}
